{
 "cells": [
  {
   "cell_type": "code",
   "execution_count": 266,
   "metadata": {
    "id": "uMIBvo_w7nQk"
   },
   "outputs": [],
   "source": [
    "import pandas as pd\n",
    "import numpy as np\n",
    "import seaborn as sns\n",
    "import matplotlib.pyplot as plt\n",
    "import warnings\n",
    "warnings.filterwarnings('ignore')"
   ]
  },
  {
   "cell_type": "code",
   "execution_count": 267,
   "metadata": {
    "id": "aic9Ezmr8tGn"
   },
   "outputs": [],
   "source": [
    "df_train = pd.read_csv('application_record.csv')\n",
    "df_test = pd.read_csv('credit_record.csv')"
   ]
  },
  {
   "cell_type": "code",
   "execution_count": 268,
   "metadata": {
    "colab": {
     "base_uri": "https://localhost:8080/",
     "height": 322
    },
    "id": "D-gVlvGC874H",
    "outputId": "08c6b65e-0c9e-4a69-f257-2c3c264dbd1a",
    "scrolled": true
   },
   "outputs": [
    {
     "data": {
      "text/html": [
       "<div>\n",
       "<style scoped>\n",
       "    .dataframe tbody tr th:only-of-type {\n",
       "        vertical-align: middle;\n",
       "    }\n",
       "\n",
       "    .dataframe tbody tr th {\n",
       "        vertical-align: top;\n",
       "    }\n",
       "\n",
       "    .dataframe thead th {\n",
       "        text-align: right;\n",
       "    }\n",
       "</style>\n",
       "<table border=\"1\" class=\"dataframe\">\n",
       "  <thead>\n",
       "    <tr style=\"text-align: right;\">\n",
       "      <th></th>\n",
       "      <th>ID</th>\n",
       "      <th>CODE_GENDER</th>\n",
       "      <th>FLAG_OWN_CAR</th>\n",
       "      <th>FLAG_OWN_REALTY</th>\n",
       "      <th>CNT_CHILDREN</th>\n",
       "      <th>AMT_INCOME_TOTAL</th>\n",
       "      <th>NAME_INCOME_TYPE</th>\n",
       "      <th>NAME_EDUCATION_TYPE</th>\n",
       "      <th>NAME_FAMILY_STATUS</th>\n",
       "      <th>NAME_HOUSING_TYPE</th>\n",
       "      <th>DAYS_BIRTH</th>\n",
       "      <th>DAYS_EMPLOYED</th>\n",
       "      <th>FLAG_MOBIL</th>\n",
       "      <th>FLAG_WORK_PHONE</th>\n",
       "      <th>FLAG_PHONE</th>\n",
       "      <th>FLAG_EMAIL</th>\n",
       "      <th>OCCUPATION_TYPE</th>\n",
       "      <th>CNT_FAM_MEMBERS</th>\n",
       "    </tr>\n",
       "  </thead>\n",
       "  <tbody>\n",
       "    <tr>\n",
       "      <th>0</th>\n",
       "      <td>5008804</td>\n",
       "      <td>M</td>\n",
       "      <td>Y</td>\n",
       "      <td>Y</td>\n",
       "      <td>0</td>\n",
       "      <td>427500.0</td>\n",
       "      <td>Working</td>\n",
       "      <td>Higher education</td>\n",
       "      <td>Civil marriage</td>\n",
       "      <td>Rented apartment</td>\n",
       "      <td>-12005</td>\n",
       "      <td>-4542</td>\n",
       "      <td>1</td>\n",
       "      <td>1</td>\n",
       "      <td>0</td>\n",
       "      <td>0</td>\n",
       "      <td>NaN</td>\n",
       "      <td>2.0</td>\n",
       "    </tr>\n",
       "    <tr>\n",
       "      <th>1</th>\n",
       "      <td>5008805</td>\n",
       "      <td>M</td>\n",
       "      <td>Y</td>\n",
       "      <td>Y</td>\n",
       "      <td>0</td>\n",
       "      <td>427500.0</td>\n",
       "      <td>Working</td>\n",
       "      <td>Higher education</td>\n",
       "      <td>Civil marriage</td>\n",
       "      <td>Rented apartment</td>\n",
       "      <td>-12005</td>\n",
       "      <td>-4542</td>\n",
       "      <td>1</td>\n",
       "      <td>1</td>\n",
       "      <td>0</td>\n",
       "      <td>0</td>\n",
       "      <td>NaN</td>\n",
       "      <td>2.0</td>\n",
       "    </tr>\n",
       "    <tr>\n",
       "      <th>2</th>\n",
       "      <td>5008806</td>\n",
       "      <td>M</td>\n",
       "      <td>Y</td>\n",
       "      <td>Y</td>\n",
       "      <td>0</td>\n",
       "      <td>112500.0</td>\n",
       "      <td>Working</td>\n",
       "      <td>Secondary / secondary special</td>\n",
       "      <td>Married</td>\n",
       "      <td>House / apartment</td>\n",
       "      <td>-21474</td>\n",
       "      <td>-1134</td>\n",
       "      <td>1</td>\n",
       "      <td>0</td>\n",
       "      <td>0</td>\n",
       "      <td>0</td>\n",
       "      <td>Security staff</td>\n",
       "      <td>2.0</td>\n",
       "    </tr>\n",
       "    <tr>\n",
       "      <th>3</th>\n",
       "      <td>5008808</td>\n",
       "      <td>F</td>\n",
       "      <td>N</td>\n",
       "      <td>Y</td>\n",
       "      <td>0</td>\n",
       "      <td>270000.0</td>\n",
       "      <td>Commercial associate</td>\n",
       "      <td>Secondary / secondary special</td>\n",
       "      <td>Single / not married</td>\n",
       "      <td>House / apartment</td>\n",
       "      <td>-19110</td>\n",
       "      <td>-3051</td>\n",
       "      <td>1</td>\n",
       "      <td>0</td>\n",
       "      <td>1</td>\n",
       "      <td>1</td>\n",
       "      <td>Sales staff</td>\n",
       "      <td>1.0</td>\n",
       "    </tr>\n",
       "    <tr>\n",
       "      <th>4</th>\n",
       "      <td>5008809</td>\n",
       "      <td>F</td>\n",
       "      <td>N</td>\n",
       "      <td>Y</td>\n",
       "      <td>0</td>\n",
       "      <td>270000.0</td>\n",
       "      <td>Commercial associate</td>\n",
       "      <td>Secondary / secondary special</td>\n",
       "      <td>Single / not married</td>\n",
       "      <td>House / apartment</td>\n",
       "      <td>-19110</td>\n",
       "      <td>-3051</td>\n",
       "      <td>1</td>\n",
       "      <td>0</td>\n",
       "      <td>1</td>\n",
       "      <td>1</td>\n",
       "      <td>Sales staff</td>\n",
       "      <td>1.0</td>\n",
       "    </tr>\n",
       "  </tbody>\n",
       "</table>\n",
       "</div>"
      ],
      "text/plain": [
       "        ID CODE_GENDER FLAG_OWN_CAR FLAG_OWN_REALTY  CNT_CHILDREN  \\\n",
       "0  5008804           M            Y               Y             0   \n",
       "1  5008805           M            Y               Y             0   \n",
       "2  5008806           M            Y               Y             0   \n",
       "3  5008808           F            N               Y             0   \n",
       "4  5008809           F            N               Y             0   \n",
       "\n",
       "   AMT_INCOME_TOTAL      NAME_INCOME_TYPE            NAME_EDUCATION_TYPE  \\\n",
       "0          427500.0               Working               Higher education   \n",
       "1          427500.0               Working               Higher education   \n",
       "2          112500.0               Working  Secondary / secondary special   \n",
       "3          270000.0  Commercial associate  Secondary / secondary special   \n",
       "4          270000.0  Commercial associate  Secondary / secondary special   \n",
       "\n",
       "     NAME_FAMILY_STATUS  NAME_HOUSING_TYPE  DAYS_BIRTH  DAYS_EMPLOYED  \\\n",
       "0        Civil marriage   Rented apartment      -12005          -4542   \n",
       "1        Civil marriage   Rented apartment      -12005          -4542   \n",
       "2               Married  House / apartment      -21474          -1134   \n",
       "3  Single / not married  House / apartment      -19110          -3051   \n",
       "4  Single / not married  House / apartment      -19110          -3051   \n",
       "\n",
       "   FLAG_MOBIL  FLAG_WORK_PHONE  FLAG_PHONE  FLAG_EMAIL OCCUPATION_TYPE  \\\n",
       "0           1                1           0           0             NaN   \n",
       "1           1                1           0           0             NaN   \n",
       "2           1                0           0           0  Security staff   \n",
       "3           1                0           1           1     Sales staff   \n",
       "4           1                0           1           1     Sales staff   \n",
       "\n",
       "   CNT_FAM_MEMBERS  \n",
       "0              2.0  \n",
       "1              2.0  \n",
       "2              2.0  \n",
       "3              1.0  \n",
       "4              1.0  "
      ]
     },
     "execution_count": 268,
     "metadata": {},
     "output_type": "execute_result"
    }
   ],
   "source": [
    "df_train.head()"
   ]
  },
  {
   "cell_type": "code",
   "execution_count": 269,
   "metadata": {
    "colab": {
     "base_uri": "https://localhost:8080/",
     "height": 206
    },
    "id": "fYiDYy9f8-_M",
    "outputId": "e2b8611f-ed42-4e90-c635-1cd163e04d1a"
   },
   "outputs": [
    {
     "data": {
      "text/html": [
       "<div>\n",
       "<style scoped>\n",
       "    .dataframe tbody tr th:only-of-type {\n",
       "        vertical-align: middle;\n",
       "    }\n",
       "\n",
       "    .dataframe tbody tr th {\n",
       "        vertical-align: top;\n",
       "    }\n",
       "\n",
       "    .dataframe thead th {\n",
       "        text-align: right;\n",
       "    }\n",
       "</style>\n",
       "<table border=\"1\" class=\"dataframe\">\n",
       "  <thead>\n",
       "    <tr style=\"text-align: right;\">\n",
       "      <th></th>\n",
       "      <th>ID</th>\n",
       "      <th>MONTHS_BALANCE</th>\n",
       "      <th>STATUS</th>\n",
       "    </tr>\n",
       "  </thead>\n",
       "  <tbody>\n",
       "    <tr>\n",
       "      <th>0</th>\n",
       "      <td>5001711</td>\n",
       "      <td>0</td>\n",
       "      <td>X</td>\n",
       "    </tr>\n",
       "    <tr>\n",
       "      <th>1</th>\n",
       "      <td>5001711</td>\n",
       "      <td>-1</td>\n",
       "      <td>0</td>\n",
       "    </tr>\n",
       "    <tr>\n",
       "      <th>2</th>\n",
       "      <td>5001711</td>\n",
       "      <td>-2</td>\n",
       "      <td>0</td>\n",
       "    </tr>\n",
       "    <tr>\n",
       "      <th>3</th>\n",
       "      <td>5001711</td>\n",
       "      <td>-3</td>\n",
       "      <td>0</td>\n",
       "    </tr>\n",
       "    <tr>\n",
       "      <th>4</th>\n",
       "      <td>5001712</td>\n",
       "      <td>0</td>\n",
       "      <td>C</td>\n",
       "    </tr>\n",
       "  </tbody>\n",
       "</table>\n",
       "</div>"
      ],
      "text/plain": [
       "        ID  MONTHS_BALANCE STATUS\n",
       "0  5001711               0      X\n",
       "1  5001711              -1      0\n",
       "2  5001711              -2      0\n",
       "3  5001711              -3      0\n",
       "4  5001712               0      C"
      ]
     },
     "execution_count": 269,
     "metadata": {},
     "output_type": "execute_result"
    }
   ],
   "source": [
    "df_test.head()"
   ]
  },
  {
   "cell_type": "code",
   "execution_count": 270,
   "metadata": {
    "colab": {
     "base_uri": "https://localhost:8080/"
    },
    "id": "AxEYZsSa9DtE",
    "outputId": "6a0d0b5d-0a76-46e1-dd55-c1ce327ceacc"
   },
   "outputs": [
    {
     "data": {
      "text/plain": [
       "ID                     438510\n",
       "CODE_GENDER                 2\n",
       "FLAG_OWN_CAR                2\n",
       "FLAG_OWN_REALTY             2\n",
       "CNT_CHILDREN               12\n",
       "AMT_INCOME_TOTAL          866\n",
       "NAME_INCOME_TYPE            5\n",
       "NAME_EDUCATION_TYPE         5\n",
       "NAME_FAMILY_STATUS          5\n",
       "NAME_HOUSING_TYPE           6\n",
       "DAYS_BIRTH              16379\n",
       "DAYS_EMPLOYED            9406\n",
       "FLAG_MOBIL                  1\n",
       "FLAG_WORK_PHONE             2\n",
       "FLAG_PHONE                  2\n",
       "FLAG_EMAIL                  2\n",
       "OCCUPATION_TYPE            18\n",
       "CNT_FAM_MEMBERS            13\n",
       "dtype: int64"
      ]
     },
     "execution_count": 270,
     "metadata": {},
     "output_type": "execute_result"
    }
   ],
   "source": [
    "df_train.nunique()"
   ]
  },
  {
   "cell_type": "code",
   "execution_count": 271,
   "metadata": {
    "colab": {
     "base_uri": "https://localhost:8080/"
    },
    "id": "hgh9lSXt-5uF",
    "outputId": "5650bf6a-d41e-4b0b-e607-5a4e12efe081"
   },
   "outputs": [
    {
     "data": {
      "text/plain": [
       "ID                45985\n",
       "MONTHS_BALANCE       61\n",
       "STATUS                8\n",
       "dtype: int64"
      ]
     },
     "execution_count": 271,
     "metadata": {},
     "output_type": "execute_result"
    }
   ],
   "source": [
    "df_test.nunique()"
   ]
  },
  {
   "cell_type": "code",
   "execution_count": 272,
   "metadata": {
    "colab": {
     "base_uri": "https://localhost:8080/"
    },
    "id": "IUaHDlO_-__r",
    "outputId": "17b6a820-e1e4-4610-947f-ddd39cff58b1"
   },
   "outputs": [
    {
     "data": {
      "text/plain": [
       "ID                          0\n",
       "CODE_GENDER                 0\n",
       "FLAG_OWN_CAR                0\n",
       "FLAG_OWN_REALTY             0\n",
       "CNT_CHILDREN                0\n",
       "AMT_INCOME_TOTAL            0\n",
       "NAME_INCOME_TYPE            0\n",
       "NAME_EDUCATION_TYPE         0\n",
       "NAME_FAMILY_STATUS          0\n",
       "NAME_HOUSING_TYPE           0\n",
       "DAYS_BIRTH                  0\n",
       "DAYS_EMPLOYED               0\n",
       "FLAG_MOBIL                  0\n",
       "FLAG_WORK_PHONE             0\n",
       "FLAG_PHONE                  0\n",
       "FLAG_EMAIL                  0\n",
       "OCCUPATION_TYPE        134203\n",
       "CNT_FAM_MEMBERS             0\n",
       "dtype: int64"
      ]
     },
     "execution_count": 272,
     "metadata": {},
     "output_type": "execute_result"
    }
   ],
   "source": [
    "df_train.isna().sum()"
   ]
  },
  {
   "cell_type": "code",
   "execution_count": 273,
   "metadata": {
    "colab": {
     "base_uri": "https://localhost:8080/"
    },
    "id": "5i8c01Gj_CwT",
    "outputId": "f453bc8c-14d7-45a1-d581-28fda2905104"
   },
   "outputs": [
    {
     "data": {
      "text/plain": [
       "ID                0\n",
       "MONTHS_BALANCE    0\n",
       "STATUS            0\n",
       "dtype: int64"
      ]
     },
     "execution_count": 273,
     "metadata": {},
     "output_type": "execute_result"
    }
   ],
   "source": [
    "df_test.isnull().sum()"
   ]
  },
  {
   "cell_type": "code",
   "execution_count": 274,
   "metadata": {
    "id": "RdSy8sZ__FhT"
   },
   "outputs": [],
   "source": [
    "# Fill missing values\n",
    "df_train['OCCUPATION_TYPE'].fillna(value='Other', inplace=True)"
   ]
  },
  {
   "cell_type": "code",
   "execution_count": 275,
   "metadata": {
    "id": "tydqZ64b_l32"
   },
   "outputs": [],
   "source": [
    "# Dropping duplicate values\n",
    "df_train=df_train.drop_duplicates(subset=df_train.columns[1:], keep='first')"
   ]
  },
  {
   "cell_type": "code",
   "execution_count": 276,
   "metadata": {
    "id": "3y5jrY7N_wM2"
   },
   "outputs": [],
   "source": [
    "df_train.drop('FLAG_MOBIL',axis=1,inplace=True)"
   ]
  },
  {
   "cell_type": "code",
   "execution_count": 277,
   "metadata": {
    "id": "rV7iscTkAFY-"
   },
   "outputs": [],
   "source": [
    "# Construct target\n",
    "df_test['target']=df_test['STATUS']\n",
    "df_test['target'].replace('X', 0, inplace=True)\n",
    "df_test['target'].replace('C', 0, inplace=True)\n",
    "df_test['target']=df_test['target'].astype(int)\n",
    "df_test.loc[df_test['target']>=1,'target']=1\n",
    "\n",
    "# target=1 (high risk) iff there is at least one month where user is late on payments by 30 days or more\n",
    "target_df=pd.DataFrame(df_test.groupby(['ID'])['target'].agg(max)).reset_index()\n",
    "\n",
    "# Merge dataframes\n",
    "new_df=pd.merge(df_train, target_df, how='inner', on=['ID'])"
   ]
  },
  {
   "cell_type": "code",
   "execution_count": 278,
   "metadata": {
    "id": "zkkyepoGAvk7"
   },
   "outputs": [],
   "source": [
    "# Extract how many months account has been open for\n",
    "start_df=pd.DataFrame(df_test.groupby(['ID'])['MONTHS_BALANCE'].agg(min)).reset_index()\n",
    "\n",
    "# Rename column\n",
    "start_df.rename(columns={'MONTHS_BALANCE':'ACCOUNT_LENGTH'}, inplace=True)\n",
    "\n",
    "# Make entries positive\n",
    "start_df['ACCOUNT_LENGTH']=-start_df['ACCOUNT_LENGTH']\n",
    "\n",
    "# Merge dataframes on ID\n",
    "new_df=pd.merge(new_df, start_df, how='inner', on=['ID'])"
   ]
  },
  {
   "cell_type": "code",
   "execution_count": 279,
   "metadata": {
    "id": "rbyO7vJ9BDd-"
   },
   "outputs": [],
   "source": [
    "# Create age feature\n",
    "new_df['AGE_YEARS']=-new_df['DAYS_BIRTH']/365.2425\n",
    "new_df.drop('DAYS_BIRTH', axis=1, inplace=True)\n",
    "\n",
    "# Create unemployed indicator\n",
    "new_df['UNEMPLOYED']=0\n",
    "new_df.loc[-new_df['DAYS_EMPLOYED']<0,'UNEMPLOYED']=1\n",
    "\n",
    "# Create years employed feature\n",
    "new_df['YEARS_EMPLOYED']=-new_df['DAYS_EMPLOYED']/365.2425\n",
    "new_df.loc[new_df['YEARS_EMPLOYED']<0,'YEARS_EMPLOYED']=0\n",
    "new_df.drop('DAYS_EMPLOYED', axis=1, inplace=True)"
   ]
  },
  {
   "cell_type": "code",
   "execution_count": 280,
   "metadata": {
    "colab": {
     "base_uri": "https://localhost:8080/"
    },
    "id": "0dA8lvnoBfVd",
    "outputId": "479de2b5-4f44-4f67-85a9-82e6e05bcf58"
   },
   "outputs": [
    {
     "name": "stdout",
     "output_type": "stream",
     "text": [
      "<class 'pandas.core.frame.DataFrame'>\n",
      "Int64Index: 9709 entries, 0 to 9708\n",
      "Data columns (total 20 columns):\n",
      " #   Column               Non-Null Count  Dtype  \n",
      "---  ------               --------------  -----  \n",
      " 0   ID                   9709 non-null   int64  \n",
      " 1   CODE_GENDER          9709 non-null   object \n",
      " 2   FLAG_OWN_CAR         9709 non-null   object \n",
      " 3   FLAG_OWN_REALTY      9709 non-null   object \n",
      " 4   CNT_CHILDREN         9709 non-null   int64  \n",
      " 5   AMT_INCOME_TOTAL     9709 non-null   float64\n",
      " 6   NAME_INCOME_TYPE     9709 non-null   object \n",
      " 7   NAME_EDUCATION_TYPE  9709 non-null   object \n",
      " 8   NAME_FAMILY_STATUS   9709 non-null   object \n",
      " 9   NAME_HOUSING_TYPE    9709 non-null   object \n",
      " 10  FLAG_WORK_PHONE      9709 non-null   int64  \n",
      " 11  FLAG_PHONE           9709 non-null   int64  \n",
      " 12  FLAG_EMAIL           9709 non-null   int64  \n",
      " 13  OCCUPATION_TYPE      9709 non-null   object \n",
      " 14  CNT_FAM_MEMBERS      9709 non-null   float64\n",
      " 15  target               9709 non-null   int32  \n",
      " 16  ACCOUNT_LENGTH       9709 non-null   int64  \n",
      " 17  AGE_YEARS            9709 non-null   float64\n",
      " 18  UNEMPLOYED           9709 non-null   int64  \n",
      " 19  YEARS_EMPLOYED       9709 non-null   float64\n",
      "dtypes: float64(4), int32(1), int64(7), object(8)\n",
      "memory usage: 1.5+ MB\n"
     ]
    }
   ],
   "source": [
    "new_df.info()"
   ]
  },
  {
   "cell_type": "code",
   "execution_count": 281,
   "metadata": {
    "colab": {
     "base_uri": "https://localhost:8080/"
    },
    "id": "jwy8p9qMBfQW",
    "outputId": "b56f112a-b1aa-4f1e-da0d-540eebd34574"
   },
   "outputs": [
    {
     "data": {
      "text/plain": [
       "ID                     9709\n",
       "CODE_GENDER               2\n",
       "FLAG_OWN_CAR              2\n",
       "FLAG_OWN_REALTY           2\n",
       "CNT_CHILDREN              9\n",
       "AMT_INCOME_TOTAL        263\n",
       "NAME_INCOME_TYPE          5\n",
       "NAME_EDUCATION_TYPE       5\n",
       "NAME_FAMILY_STATUS        5\n",
       "NAME_HOUSING_TYPE         6\n",
       "FLAG_WORK_PHONE           2\n",
       "FLAG_PHONE                2\n",
       "FLAG_EMAIL                2\n",
       "OCCUPATION_TYPE          19\n",
       "CNT_FAM_MEMBERS          10\n",
       "target                    2\n",
       "ACCOUNT_LENGTH           61\n",
       "AGE_YEARS              7172\n",
       "UNEMPLOYED                2\n",
       "YEARS_EMPLOYED         3637\n",
       "dtype: int64"
      ]
     },
     "execution_count": 281,
     "metadata": {},
     "output_type": "execute_result"
    }
   ],
   "source": [
    "new_df.nunique()"
   ]
  },
  {
   "cell_type": "code",
   "execution_count": 282,
   "metadata": {
    "id": "YzErzOzTGwfw"
   },
   "outputs": [],
   "source": [
    "# Renaming Feature Columns \n",
    "\n",
    "new_df = new_df.rename(columns={\n",
    "    'CODE_GENDER': 'Gender', \n",
    "    'FLAG_OWN_CAR': 'Own_car', \n",
    "    'FLAG_OWN_REALTY':'Own_property',\n",
    "    'CNT_CHILDREN':'Num_children',\n",
    "    'AMT_INCOME_TOTAL':'Total_income',\n",
    "    'NAME_INCOME_TYPE':'Income_type',\n",
    "    'NAME_EDUCATION_TYPE':'Education_type',\n",
    "    'NAME_FAMILY_STATUS':'Marital_status',\n",
    "    'NAME_HOUSING_TYPE':'Housing_type',\n",
    "    'FLAG_WORK_PHONE':'Work_phone',\n",
    "    'FLAG_PHONE':'Phone',\n",
    "    'FLAG_EMAIL':'Email',\n",
    "    'OCCUPATION_TYPE':'Occupation_type',\n",
    "    'CNT_FAM_MEMBERS':'Num_family',\n",
    "    'target':'Target',\n",
    "    'ACCOUNT_LENGTH':'Account_length',\n",
    "    'AGE_YEARS':'Age',\n",
    "    'UNEMPLOYED':'Unemployed',\n",
    "    'YEARS_EMPLOYED':'Years_employed'})"
   ]
  },
  {
   "cell_type": "code",
   "execution_count": 283,
   "metadata": {
    "id": "5-bnFxoBKkGv"
   },
   "outputs": [],
   "source": [
    "# Rearranging the Columns\n",
    "\n",
    "new_df=new_df[['ID', 'Gender', 'Own_car', 'Own_property', 'Work_phone',\n",
    "               'Phone', 'Email', 'Unemployed', 'Num_children', 'Num_family', \n",
    "               'Account_length', 'Total_income', 'Age', 'Years_employed',  \n",
    "               'Income_type', 'Education_type', 'Marital_status',\n",
    "               'Housing_type', 'Occupation_type','Target']]"
   ]
  },
  {
   "cell_type": "code",
   "execution_count": 284,
   "metadata": {
    "id": "ejaRU7zzTtnC"
   },
   "outputs": [],
   "source": [
    "# Outlier Handling\n",
    "\n",
    "feat_with_outliers = ['Family member count','Income', 'Employment length']\n",
    "\n",
    "def transform(self,new_df):\n",
    "        if (set(self.feat_with_outliers).issubset(new_df.columns)):\n",
    "            # 25% quantile\n",
    "            Q1 = new_df[self.feat_with_outliers].quantile(.25)\n",
    "            # 75% quantile\n",
    "            Q3 = new_df[self.feat_with_outliers].quantile(.75)\n",
    "            IQR = Q3 - Q1\n",
    "            # keep the data within 3 IQR\n",
    "            new_df = new_df[~((new_df[self.feat_with_outliers] < (Q1 - 3 * IQR)) |(new_df[self.feat_with_outliers] > (Q3 + 3 * IQR))).any(axis=1)]\n",
    "            return new_df"
   ]
  },
  {
   "cell_type": "code",
   "execution_count": 285,
   "metadata": {
    "colab": {
     "base_uri": "https://localhost:8080/",
     "height": 398
    },
    "id": "d2nM9pLkadxX",
    "outputId": "2b89d194-2c27-4338-9a5a-6ed1736b131b"
   },
   "outputs": [
    {
     "data": {
      "text/plain": [
       "<Axes: >"
      ]
     },
     "execution_count": 285,
     "metadata": {},
     "output_type": "execute_result"
    },
    {
     "data": {
      "image/png": "[encoded data removed]",
      "text/plain": [
       "<Figure size 2000x800 with 2 Axes>"
      ]
     },
     "metadata": {},
     "output_type": "display_data"
    }
   ],
   "source": [
    "# Correlation \n",
    "\n",
    "plt.figure(figsize=(20,8))\n",
    "sns.heatmap(new_df.corr(),annot=True,linewidths=2)"
   ]
  },
  {
   "cell_type": "code",
   "execution_count": 286,
   "metadata": {
    "id": "EITIc_FkTtkK"
   },
   "outputs": [],
   "source": [
    "# Dropping Feature Columns\n",
    "\n",
    "new_df = new_df.drop(['ID','Phone','Num_children','Occupation_type','Account_length'],axis=1)"
   ]
  },
  {
   "cell_type": "markdown",
   "metadata": {
    "id": "WtFcpP6WaC34"
   },
   "source": [
    "Why are we droping these features?\n",
    "\n",
    "1. ID: ID is not useful for prediction, it helped us when we were merging the two datasets but after that, there is no need to keep it.\n",
    "2. Phone: Since everyone has a mobile phone, this feature does not inform us about anything.\n",
    "3. Num_children: is highly correlated with Family member count, and to avoid multicollinearity, we drop it.\n",
    "4. Occupation_type: Has some missing values and the count of each category is not very different to justify the use of mode. So we drop it.\n",
    "5. Account_length: Because account was used to create the target, reusing will make our model to overfit. Plus, this information is unknown while applying for a credit card."
   ]
  },
  {
   "cell_type": "code",
   "execution_count": 287,
   "metadata": {
    "id": "jHGPIssVRHsu"
   },
   "outputs": [],
   "source": [
    "# Categroical to numerical encoding (Using Get Dummies)\n",
    "\n",
    "df_ohe = pd.get_dummies(new_df[['Gender','Own_car', 'Own_property', 'Work_phone']])\n",
    "df_ohe\n",
    "\n",
    "# Concatinating two dfs\n",
    "new_df = pd.concat([new_df,df_ohe],axis=1)\n",
    "\n",
    "# Dropping Columns\n",
    "new_df.drop(['Gender','Own_car', 'Own_property', 'Work_phone'],axis=1,inplace=True)"
   ]
  },
  {
   "cell_type": "code",
   "execution_count": 288,
   "metadata": {
    "id": "Wl6I4dpjVjXn"
   },
   "outputs": [],
   "source": [
    "# Label Encoding Categorical Columns\n",
    "\n",
    "from sklearn.preprocessing import LabelEncoder\n",
    "le = LabelEncoder()\n",
    "new_df['Income_type'] = le.fit_transform(new_df['Income_type']) \n",
    "new_df['Education_type'] = le.fit_transform(new_df['Education_type']) \n",
    "new_df['Marital_status'] = le.fit_transform(new_df['Marital_status']) \n",
    "new_df['Housing_type'] = le.fit_transform(new_df['Housing_type']) "
   ]
  },
  {
   "cell_type": "code",
   "execution_count": 289,
   "metadata": {},
   "outputs": [
    {
     "data": {
      "text/plain": [
       "Index(['Email', 'Unemployed', 'Num_family', 'Total_income', 'Age',\n",
       "       'Years_employed', 'Income_type', 'Education_type', 'Marital_status',\n",
       "       'Housing_type', 'Target', 'Gender_F', 'Gender_M', 'Own_car_N',\n",
       "       'Own_car_Y', 'Own_property_N', 'Own_property_Y'],\n",
       "      dtype='object')"
      ]
     },
     "execution_count": 289,
     "metadata": {},
     "output_type": "execute_result"
    }
   ],
   "source": [
    "new_df.columns"
   ]
  },
  {
   "cell_type": "code",
   "execution_count": 290,
   "metadata": {
    "id": "XpIvY2eIURr3"
   },
   "outputs": [],
   "source": [
    "# Rearranging Columns once again\n",
    "\n",
    "new_df = new_df[['Email', 'Unemployed', 'Num_family', 'Total_income', 'Age',\n",
    "       'Years_employed', 'Income_type', 'Education_type', 'Marital_status',\n",
    "       'Housing_type', 'Gender_F', 'Gender_M', 'Own_car_N',\n",
    "       'Own_car_Y', 'Own_property_N', 'Own_property_Y','Target']]"
   ]
  },
  {
   "cell_type": "code",
   "execution_count": 291,
   "metadata": {
    "colab": {
     "base_uri": "https://localhost:8080/",
     "height": 317
    },
    "id": "FXJfmZGoZw4H",
    "outputId": "48302019-ee4d-4774-82de-ec8dd8c2b893"
   },
   "outputs": [
    {
     "data": {
      "text/html": [
       "<div>\n",
       "<style scoped>\n",
       "    .dataframe tbody tr th:only-of-type {\n",
       "        vertical-align: middle;\n",
       "    }\n",
       "\n",
       "    .dataframe tbody tr th {\n",
       "        vertical-align: top;\n",
       "    }\n",
       "\n",
       "    .dataframe thead th {\n",
       "        text-align: right;\n",
       "    }\n",
       "</style>\n",
       "<table border=\"1\" class=\"dataframe\">\n",
       "  <thead>\n",
       "    <tr style=\"text-align: right;\">\n",
       "      <th></th>\n",
       "      <th>Email</th>\n",
       "      <th>Unemployed</th>\n",
       "      <th>Num_family</th>\n",
       "      <th>Total_income</th>\n",
       "      <th>Age</th>\n",
       "      <th>Years_employed</th>\n",
       "      <th>Income_type</th>\n",
       "      <th>Education_type</th>\n",
       "      <th>Marital_status</th>\n",
       "      <th>Housing_type</th>\n",
       "      <th>Gender_F</th>\n",
       "      <th>Gender_M</th>\n",
       "      <th>Own_car_N</th>\n",
       "      <th>Own_car_Y</th>\n",
       "      <th>Own_property_N</th>\n",
       "      <th>Own_property_Y</th>\n",
       "      <th>Target</th>\n",
       "    </tr>\n",
       "  </thead>\n",
       "  <tbody>\n",
       "    <tr>\n",
       "      <th>0</th>\n",
       "      <td>0</td>\n",
       "      <td>0</td>\n",
       "      <td>2.0</td>\n",
       "      <td>427500.0</td>\n",
       "      <td>32.868574</td>\n",
       "      <td>12.435574</td>\n",
       "      <td>4</td>\n",
       "      <td>1</td>\n",
       "      <td>0</td>\n",
       "      <td>4</td>\n",
       "      <td>0</td>\n",
       "      <td>1</td>\n",
       "      <td>0</td>\n",
       "      <td>1</td>\n",
       "      <td>0</td>\n",
       "      <td>1</td>\n",
       "      <td>1</td>\n",
       "    </tr>\n",
       "    <tr>\n",
       "      <th>1</th>\n",
       "      <td>0</td>\n",
       "      <td>0</td>\n",
       "      <td>2.0</td>\n",
       "      <td>112500.0</td>\n",
       "      <td>58.793815</td>\n",
       "      <td>3.104787</td>\n",
       "      <td>4</td>\n",
       "      <td>4</td>\n",
       "      <td>1</td>\n",
       "      <td>1</td>\n",
       "      <td>0</td>\n",
       "      <td>1</td>\n",
       "      <td>0</td>\n",
       "      <td>1</td>\n",
       "      <td>0</td>\n",
       "      <td>1</td>\n",
       "      <td>0</td>\n",
       "    </tr>\n",
       "    <tr>\n",
       "      <th>2</th>\n",
       "      <td>1</td>\n",
       "      <td>0</td>\n",
       "      <td>1.0</td>\n",
       "      <td>270000.0</td>\n",
       "      <td>52.321403</td>\n",
       "      <td>8.353354</td>\n",
       "      <td>0</td>\n",
       "      <td>4</td>\n",
       "      <td>3</td>\n",
       "      <td>1</td>\n",
       "      <td>1</td>\n",
       "      <td>0</td>\n",
       "      <td>1</td>\n",
       "      <td>0</td>\n",
       "      <td>0</td>\n",
       "      <td>1</td>\n",
       "      <td>0</td>\n",
       "    </tr>\n",
       "    <tr>\n",
       "      <th>3</th>\n",
       "      <td>0</td>\n",
       "      <td>1</td>\n",
       "      <td>1.0</td>\n",
       "      <td>283500.0</td>\n",
       "      <td>61.504343</td>\n",
       "      <td>0.000000</td>\n",
       "      <td>1</td>\n",
       "      <td>1</td>\n",
       "      <td>2</td>\n",
       "      <td>1</td>\n",
       "      <td>1</td>\n",
       "      <td>0</td>\n",
       "      <td>1</td>\n",
       "      <td>0</td>\n",
       "      <td>0</td>\n",
       "      <td>1</td>\n",
       "      <td>0</td>\n",
       "    </tr>\n",
       "    <tr>\n",
       "      <th>4</th>\n",
       "      <td>1</td>\n",
       "      <td>0</td>\n",
       "      <td>2.0</td>\n",
       "      <td>270000.0</td>\n",
       "      <td>46.193967</td>\n",
       "      <td>2.105450</td>\n",
       "      <td>4</td>\n",
       "      <td>1</td>\n",
       "      <td>1</td>\n",
       "      <td>1</td>\n",
       "      <td>0</td>\n",
       "      <td>1</td>\n",
       "      <td>0</td>\n",
       "      <td>1</td>\n",
       "      <td>0</td>\n",
       "      <td>1</td>\n",
       "      <td>0</td>\n",
       "    </tr>\n",
       "  </tbody>\n",
       "</table>\n",
       "</div>"
      ],
      "text/plain": [
       "   Email  Unemployed  Num_family  Total_income        Age  Years_employed  \\\n",
       "0      0           0         2.0      427500.0  32.868574       12.435574   \n",
       "1      0           0         2.0      112500.0  58.793815        3.104787   \n",
       "2      1           0         1.0      270000.0  52.321403        8.353354   \n",
       "3      0           1         1.0      283500.0  61.504343        0.000000   \n",
       "4      1           0         2.0      270000.0  46.193967        2.105450   \n",
       "\n",
       "   Income_type  Education_type  Marital_status  Housing_type  Gender_F  \\\n",
       "0            4               1               0             4         0   \n",
       "1            4               4               1             1         0   \n",
       "2            0               4               3             1         1   \n",
       "3            1               1               2             1         1   \n",
       "4            4               1               1             1         0   \n",
       "\n",
       "   Gender_M  Own_car_N  Own_car_Y  Own_property_N  Own_property_Y  Target  \n",
       "0         1          0          1               0               1       1  \n",
       "1         1          0          1               0               1       0  \n",
       "2         0          1          0               0               1       0  \n",
       "3         0          1          0               0               1       0  \n",
       "4         1          0          1               0               1       0  "
      ]
     },
     "execution_count": 291,
     "metadata": {},
     "output_type": "execute_result"
    }
   ],
   "source": [
    "new_df.head()"
   ]
  },
  {
   "cell_type": "code",
   "execution_count": 292,
   "metadata": {
    "id": "hZXd3Js7TtOs"
   },
   "outputs": [],
   "source": [
    "# Splitting into feature and target columns \n",
    "\n",
    "features = new_df.iloc[:,:-1]\n",
    "target = new_df.iloc[:,-1]"
   ]
  },
  {
   "cell_type": "markdown",
   "metadata": {
    "id": "UgKqFDAzS4xi"
   },
   "source": [
    "Interpretation:\n",
    "\n",
    "1. There is no feature that is correlated with the target feature\n",
    "2. Family member count is highly correlated with children count as previously discussed\n",
    "3. Age has some positive correlation with the family member count and children count. The older a person is, the most likely he/she will have a larger family.\n",
    "4. Another positive correlation is having a phone and having a work phone.\n",
    "5. The final positive correlation is between the age and work phone. The younger someone is the less likely he/she will have a work phone.\n",
    "6. We also have a negative correlation between the employment length and the age as previously seen."
   ]
  },
  {
   "cell_type": "code",
   "execution_count": 293,
   "metadata": {
    "id": "v9X1noBZSYZq"
   },
   "outputs": [],
   "source": [
    "# OverSampling\n",
    "\n",
    "from imblearn.over_sampling import RandomOverSampler\n",
    "ros = RandomOverSampler()\n",
    "x_sample,y_sample = ros.fit_resample(features,target)"
   ]
  },
  {
   "cell_type": "code",
   "execution_count": 294,
   "metadata": {
    "colab": {
     "base_uri": "https://localhost:8080/"
    },
    "id": "ti5FJ1w1bJyI",
    "outputId": "77d9fa3c-9e0b-4b41-bb29-fdd8ba260dfc"
   },
   "outputs": [
    {
     "data": {
      "text/plain": [
       "0    8426\n",
       "1    1283\n",
       "Name: Target, dtype: int64"
      ]
     },
     "execution_count": 294,
     "metadata": {},
     "output_type": "execute_result"
    }
   ],
   "source": [
    "target.value_counts()"
   ]
  },
  {
   "cell_type": "code",
   "execution_count": 295,
   "metadata": {
    "colab": {
     "base_uri": "https://localhost:8080/"
    },
    "id": "XMXBJW9_bLVv",
    "outputId": "36929157-aed5-4b60-815e-5a215f3664ee"
   },
   "outputs": [
    {
     "data": {
      "text/plain": [
       "1    8426\n",
       "0    8426\n",
       "Name: Target, dtype: int64"
      ]
     },
     "execution_count": 295,
     "metadata": {},
     "output_type": "execute_result"
    }
   ],
   "source": [
    "y_sample.value_counts()"
   ]
  },
  {
   "cell_type": "code",
   "execution_count": 296,
   "metadata": {
    "id": "cE5quFHybNVw"
   },
   "outputs": [],
   "source": [
    "from sklearn.model_selection import train_test_split\n",
    "xtrain,xtest,ytrain,ytest = train_test_split(x_sample,y_sample,random_state=2,test_size=0.3)"
   ]
  },
  {
   "cell_type": "code",
   "execution_count": 297,
   "metadata": {
    "id": "H3G_GwjBbVeI"
   },
   "outputs": [],
   "source": [
    "def mymodel(model):\n",
    "    model.fit(xtrain,ytrain)\n",
    "    ypred = model.predict(xtest)\n",
    "    \n",
    "    train = model.score(xtrain,ytrain)\n",
    "    test = model.score(xtest,ytest)\n",
    "    print(f'Training_Accuracy : {train}\\n Testing_Accuracy : {test}')\n",
    "    \n",
    "    print(f'Confusion_matrix :\\n',confusion_matrix(ytest,ypred))\n",
    "    print(f'Classification Report :\\n',classification_report(ytest,ypred))\n",
    "    return model"
   ]
  },
  {
   "cell_type": "code",
   "execution_count": 298,
   "metadata": {
    "id": "x_PD_yfggm_g"
   },
   "outputs": [],
   "source": [
    "from sklearn.linear_model import LogisticRegression\n",
    "from sklearn.neighbors import KNeighborsClassifier\n",
    "from sklearn.svm import SVC\n",
    "from sklearn.tree import DecisionTreeClassifier\n",
    "from sklearn.ensemble import RandomForestClassifier, GradientBoostingClassifier, AdaBoostClassifier\n",
    "from sklearn.naive_bayes import GaussianNB\n",
    "from sklearn.metrics import confusion_matrix,classification_report"
   ]
  },
  {
   "cell_type": "code",
   "execution_count": 299,
   "metadata": {
    "colab": {
     "base_uri": "https://localhost:8080/"
    },
    "id": "AZpylxiHg7fw",
    "outputId": "9a84f358-f52e-4d36-a516-ef983ce565a8"
   },
   "outputs": [
    {
     "name": "stdout",
     "output_type": "stream",
     "text": [
      "Training_Accuracy : 0.49745676500508645\n",
      " Testing_Accuracy : 0.5059335443037974\n",
      "Confusion_matrix :\n",
      " [[   0 2498]\n",
      " [   0 2558]]\n",
      "Classification Report :\n",
      "               precision    recall  f1-score   support\n",
      "\n",
      "           0       0.00      0.00      0.00      2498\n",
      "           1       0.51      1.00      0.67      2558\n",
      "\n",
      "    accuracy                           0.51      5056\n",
      "   macro avg       0.25      0.50      0.34      5056\n",
      "weighted avg       0.26      0.51      0.34      5056\n",
      "\n"
     ]
    }
   ],
   "source": [
    "lr = mymodel(LogisticRegression())"
   ]
  },
  {
   "cell_type": "code",
   "execution_count": 300,
   "metadata": {
    "colab": {
     "base_uri": "https://localhost:8080/"
    },
    "id": "KCcIaHPVhDEZ",
    "outputId": "9837651f-f31c-4f2b-f257-ba9186cf86fd"
   },
   "outputs": [
    {
     "name": "stdout",
     "output_type": "stream",
     "text": [
      "Training_Accuracy : 0.8450322143099356\n",
      " Testing_Accuracy : 0.7577136075949367\n",
      "Confusion_matrix :\n",
      " [[1511  987]\n",
      " [ 238 2320]]\n",
      "Classification Report :\n",
      "               precision    recall  f1-score   support\n",
      "\n",
      "           0       0.86      0.60      0.71      2498\n",
      "           1       0.70      0.91      0.79      2558\n",
      "\n",
      "    accuracy                           0.76      5056\n",
      "   macro avg       0.78      0.76      0.75      5056\n",
      "weighted avg       0.78      0.76      0.75      5056\n",
      "\n"
     ]
    }
   ],
   "source": [
    "knn = mymodel(KNeighborsClassifier())"
   ]
  },
  {
   "cell_type": "code",
   "execution_count": 301,
   "metadata": {
    "colab": {
     "base_uri": "https://localhost:8080/"
    },
    "id": "BmKkKc1khHYu",
    "outputId": "e00637dc-8daa-4ca5-a7ec-8d95dc12eca9"
   },
   "outputs": [
    {
     "name": "stdout",
     "output_type": "stream",
     "text": [
      "Training_Accuracy : 0.51127500847745\n",
      " Testing_Accuracy : 0.5031645569620253\n",
      "Confusion_matrix :\n",
      " [[1303 1195]\n",
      " [1317 1241]]\n",
      "Classification Report :\n",
      "               precision    recall  f1-score   support\n",
      "\n",
      "           0       0.50      0.52      0.51      2498\n",
      "           1       0.51      0.49      0.50      2558\n",
      "\n",
      "    accuracy                           0.50      5056\n",
      "   macro avg       0.50      0.50      0.50      5056\n",
      "weighted avg       0.50      0.50      0.50      5056\n",
      "\n"
     ]
    }
   ],
   "source": [
    "svc = mymodel(SVC())"
   ]
  },
  {
   "cell_type": "code",
   "execution_count": 302,
   "metadata": {
    "colab": {
     "base_uri": "https://localhost:8080/"
    },
    "id": "J5EpqnhFhMC-",
    "outputId": "d516b696-f551-4c3e-90f7-b7bc976b250f"
   },
   "outputs": [
    {
     "name": "stdout",
     "output_type": "stream",
     "text": [
      "Training_Accuracy : 1.0\n",
      " Testing_Accuracy : 0.9125791139240507\n",
      "Confusion_matrix :\n",
      " [[2069  429]\n",
      " [  13 2545]]\n",
      "Classification Report :\n",
      "               precision    recall  f1-score   support\n",
      "\n",
      "           0       0.99      0.83      0.90      2498\n",
      "           1       0.86      0.99      0.92      2558\n",
      "\n",
      "    accuracy                           0.91      5056\n",
      "   macro avg       0.92      0.91      0.91      5056\n",
      "weighted avg       0.92      0.91      0.91      5056\n",
      "\n"
     ]
    }
   ],
   "source": [
    "dt = mymodel(DecisionTreeClassifier())"
   ]
  },
  {
   "cell_type": "code",
   "execution_count": 303,
   "metadata": {
    "colab": {
     "base_uri": "https://localhost:8080/"
    },
    "id": "TOUuIdhshPLe",
    "outputId": "4d7a9453-ef83-46aa-e59d-5273804d14c1"
   },
   "outputs": [
    {
     "name": "stdout",
     "output_type": "stream",
     "text": [
      "Training_Accuracy : 1.0\n",
      " Testing_Accuracy : 0.9705300632911392\n",
      "Confusion_matrix :\n",
      " [[2365  133]\n",
      " [  16 2542]]\n",
      "Classification Report :\n",
      "               precision    recall  f1-score   support\n",
      "\n",
      "           0       0.99      0.95      0.97      2498\n",
      "           1       0.95      0.99      0.97      2558\n",
      "\n",
      "    accuracy                           0.97      5056\n",
      "   macro avg       0.97      0.97      0.97      5056\n",
      "weighted avg       0.97      0.97      0.97      5056\n",
      "\n"
     ]
    }
   ],
   "source": [
    "rf = mymodel(RandomForestClassifier())"
   ]
  },
  {
   "cell_type": "code",
   "execution_count": 304,
   "metadata": {
    "colab": {
     "base_uri": "https://localhost:8080/"
    },
    "id": "1CWcGohOhSfu",
    "outputId": "c4c60198-4109-4d3e-b711-845b59353fec"
   },
   "outputs": [
    {
     "name": "stdout",
     "output_type": "stream",
     "text": [
      "Training_Accuracy : 0.6508986096982028\n",
      " Testing_Accuracy : 0.6073971518987342\n",
      "Confusion_matrix :\n",
      " [[1363 1135]\n",
      " [ 850 1708]]\n",
      "Classification Report :\n",
      "               precision    recall  f1-score   support\n",
      "\n",
      "           0       0.62      0.55      0.58      2498\n",
      "           1       0.60      0.67      0.63      2558\n",
      "\n",
      "    accuracy                           0.61      5056\n",
      "   macro avg       0.61      0.61      0.61      5056\n",
      "weighted avg       0.61      0.61      0.61      5056\n",
      "\n"
     ]
    }
   ],
   "source": [
    "gbc = mymodel(GradientBoostingClassifier())"
   ]
  },
  {
   "cell_type": "code",
   "execution_count": 305,
   "metadata": {
    "colab": {
     "base_uri": "https://localhost:8080/"
    },
    "id": "S9AOLrcuha34",
    "outputId": "219a2491-7cf4-4f1f-e343-be9a712fc4d7"
   },
   "outputs": [
    {
     "name": "stdout",
     "output_type": "stream",
     "text": [
      "Training_Accuracy : 0.5771447948457105\n",
      " Testing_Accuracy : 0.5589398734177216\n",
      "Confusion_matrix :\n",
      " [[1333 1165]\n",
      " [1065 1493]]\n",
      "Classification Report :\n",
      "               precision    recall  f1-score   support\n",
      "\n",
      "           0       0.56      0.53      0.54      2498\n",
      "           1       0.56      0.58      0.57      2558\n",
      "\n",
      "    accuracy                           0.56      5056\n",
      "   macro avg       0.56      0.56      0.56      5056\n",
      "weighted avg       0.56      0.56      0.56      5056\n",
      "\n"
     ]
    }
   ],
   "source": [
    "gbc = mymodel(AdaBoostClassifier())"
   ]
  },
  {
   "cell_type": "code",
   "execution_count": 306,
   "metadata": {
    "colab": {
     "base_uri": "https://localhost:8080/"
    },
    "id": "4-vnHxTChg3w",
    "outputId": "11cbd781-9527-475a-b0c4-61aa199610cf"
   },
   "outputs": [
    {
     "name": "stdout",
     "output_type": "stream",
     "text": [
      "Training_Accuracy : 0.5272126144455748\n",
      " Testing_Accuracy : 0.5158227848101266\n",
      "Confusion_matrix :\n",
      " [[1446 1052]\n",
      " [1396 1162]]\n",
      "Classification Report :\n",
      "               precision    recall  f1-score   support\n",
      "\n",
      "           0       0.51      0.58      0.54      2498\n",
      "           1       0.52      0.45      0.49      2558\n",
      "\n",
      "    accuracy                           0.52      5056\n",
      "   macro avg       0.52      0.52      0.51      5056\n",
      "weighted avg       0.52      0.52      0.51      5056\n",
      "\n"
     ]
    }
   ],
   "source": [
    "gnb = mymodel(GaussianNB())"
   ]
  },
  {
   "cell_type": "markdown",
   "metadata": {
    "id": "NB9_8G12nmSS"
   },
   "source": [
    "Our best model is RandomForestClassifier so we are going to use RF model for Web application."
   ]
  },
  {
   "cell_type": "code",
   "execution_count": 307,
   "metadata": {
    "id": "8npbP77JnvHc"
   },
   "outputs": [],
   "source": [
    "import pickle\n",
    "pickle.dump(rf,open('./model.sav', 'wb'))"
   ]
  },
  {
   "cell_type": "code",
   "execution_count": 308,
   "metadata": {
    "colab": {
     "base_uri": "https://localhost:8080/",
     "height": 75
    },
    "id": "dZrMeL7zn9Qr",
    "outputId": "6b2bf2ac-dd3d-4b9c-e9de-6d66d1cb99bb",
    "scrolled": true
   },
   "outputs": [
    {
     "data": {
      "text/html": [
       "<style>#sk-container-id-6 {color: black;background-color: white;}#sk-container-id-6 pre{padding: 0;}#sk-container-id-6 div.sk-toggleable {background-color: white;}#sk-container-id-6 label.sk-toggleable__label {cursor: pointer;display: block;width: 100%;margin-bottom: 0;padding: 0.3em;box-sizing: border-box;text-align: center;}#sk-container-id-6 label.sk-toggleable__label-arrow:before {content: \"▸\";float: left;margin-right: 0.25em;color: #696969;}#sk-container-id-6 label.sk-toggleable__label-arrow:hover:before {color: black;}#sk-container-id-6 div.sk-estimator:hover label.sk-toggleable__label-arrow:before {color: black;}#sk-container-id-6 div.sk-toggleable__content {max-height: 0;max-width: 0;overflow: hidden;text-align: left;background-color: #f0f8ff;}#sk-container-id-6 div.sk-toggleable__content pre {margin: 0.2em;color: black;border-radius: 0.25em;background-color: #f0f8ff;}#sk-container-id-6 input.sk-toggleable__control:checked~div.sk-toggleable__content {max-height: 200px;max-width: 100%;overflow: auto;}#sk-container-id-6 input.sk-toggleable__control:checked~label.sk-toggleable__label-arrow:before {content: \"▾\";}#sk-container-id-6 div.sk-estimator input.sk-toggleable__control:checked~label.sk-toggleable__label {background-color: #d4ebff;}#sk-container-id-6 div.sk-label input.sk-toggleable__control:checked~label.sk-toggleable__label {background-color: #d4ebff;}#sk-container-id-6 input.sk-hidden--visually {border: 0;clip: rect(1px 1px 1px 1px);clip: rect(1px, 1px, 1px, 1px);height: 1px;margin: -1px;overflow: hidden;padding: 0;position: absolute;width: 1px;}#sk-container-id-6 div.sk-estimator {font-family: monospace;background-color: #f0f8ff;border: 1px dotted black;border-radius: 0.25em;box-sizing: border-box;margin-bottom: 0.5em;}#sk-container-id-6 div.sk-estimator:hover {background-color: #d4ebff;}#sk-container-id-6 div.sk-parallel-item::after {content: \"\";width: 100%;border-bottom: 1px solid gray;flex-grow: 1;}#sk-container-id-6 div.sk-label:hover label.sk-toggleable__label {background-color: #d4ebff;}#sk-container-id-6 div.sk-serial::before {content: \"\";position: absolute;border-left: 1px solid gray;box-sizing: border-box;top: 0;bottom: 0;left: 50%;z-index: 0;}#sk-container-id-6 div.sk-serial {display: flex;flex-direction: column;align-items: center;background-color: white;padding-right: 0.2em;padding-left: 0.2em;position: relative;}#sk-container-id-6 div.sk-item {position: relative;z-index: 1;}#sk-container-id-6 div.sk-parallel {display: flex;align-items: stretch;justify-content: center;background-color: white;position: relative;}#sk-container-id-6 div.sk-item::before, #sk-container-id-6 div.sk-parallel-item::before {content: \"\";position: absolute;border-left: 1px solid gray;box-sizing: border-box;top: 0;bottom: 0;left: 50%;z-index: -1;}#sk-container-id-6 div.sk-parallel-item {display: flex;flex-direction: column;z-index: 1;position: relative;background-color: white;}#sk-container-id-6 div.sk-parallel-item:first-child::after {align-self: flex-end;width: 50%;}#sk-container-id-6 div.sk-parallel-item:last-child::after {align-self: flex-start;width: 50%;}#sk-container-id-6 div.sk-parallel-item:only-child::after {width: 0;}#sk-container-id-6 div.sk-dashed-wrapped {border: 1px dashed gray;margin: 0 0.4em 0.5em 0.4em;box-sizing: border-box;padding-bottom: 0.4em;background-color: white;}#sk-container-id-6 div.sk-label label {font-family: monospace;font-weight: bold;display: inline-block;line-height: 1.2em;}#sk-container-id-6 div.sk-label-container {text-align: center;}#sk-container-id-6 div.sk-container {/* jupyter's `normalize.less` sets `[hidden] { display: none; }` but bootstrap.min.css set `[hidden] { display: none !important; }` so we also need the `!important` here to be able to override the default hidden behavior on the sphinx rendered scikit-learn.org. See: https://github.com/scikit-learn/scikit-learn/issues/21755 */display: inline-block !important;position: relative;}#sk-container-id-6 div.sk-text-repr-fallback {display: none;}</style><div id=\"sk-container-id-6\" class=\"sk-top-container\"><div class=\"sk-text-repr-fallback\"><pre>RandomForestClassifier()</pre><b>In a Jupyter environment, please rerun this cell to show the HTML representation or trust the notebook. <br />On GitHub, the HTML representation is unable to render, please try loading this page with nbviewer.org.</b></div><div class=\"sk-container\" hidden><div class=\"sk-item\"><div class=\"sk-estimator sk-toggleable\"><input class=\"sk-toggleable__control sk-hidden--visually\" id=\"sk-estimator-id-6\" type=\"checkbox\" checked><label for=\"sk-estimator-id-6\" class=\"sk-toggleable__label sk-toggleable__label-arrow\">RandomForestClassifier</label><div class=\"sk-toggleable__content\"><pre>RandomForestClassifier()</pre></div></div></div></div></div>"
      ],
      "text/plain": [
       "RandomForestClassifier()"
      ]
     },
     "execution_count": 308,
     "metadata": {},
     "output_type": "execute_result"
    }
   ],
   "source": [
    "pickle.load(open('model.sav', 'rb'))"
   ]
  },
  {
   "cell_type": "code",
   "execution_count": 309,
   "metadata": {},
   "outputs": [
    {
     "data": {
      "text/plain": [
       "1    8684\n",
       "5     448\n",
       "2     323\n",
       "4     144\n",
       "3      76\n",
       "0      34\n",
       "Name: Housing_type, dtype: int64"
      ]
     },
     "execution_count": 309,
     "metadata": {},
     "output_type": "execute_result"
    }
   ],
   "source": [
    "new_df.Housing_type.value_counts()"
   ]
  },
  {
   "cell_type": "code",
   "execution_count": 310,
   "metadata": {},
   "outputs": [
    {
     "ename": "SyntaxError",
     "evalue": "invalid syntax (1219453713.py, line 1)",
     "output_type": "error",
     "traceback": [
      "\u001b[1;36m  Cell \u001b[1;32mIn[310], line 1\u001b[1;36m\u001b[0m\n\u001b[1;33m    House / apartment      393831\u001b[0m\n\u001b[1;37m                           ^\u001b[0m\n\u001b[1;31mSyntaxError\u001b[0m\u001b[1;31m:\u001b[0m invalid syntax\n"
     ]
    }
   ],
   "source": [
    "House / apartment      393831\n",
    "With parents            19077\n",
    "Municipal apartment     14214\n",
    "Rented apartment         5974\n",
    "Office apartment         3922\n",
    "Co-op apartment          1539"
   ]
  }
 ],
 "metadata": {
  "colab": {
   "provenance": []
  },
  "kernelspec": {
   "display_name": "Python 3 (ipykernel)",
   "language": "python",
   "name": "python3"
  },
  "language_info": {
   "codemirror_mode": {
    "name": "ipython",
    "version": 3
   },
   "file_extension": ".py",
   "mimetype": "text/x-python",
   "name": "python",
   "nbconvert_exporter": "python",
   "pygments_lexer": "ipython3",
   "version": "3.10.9"
  }
 },
 "nbformat": 4,
 "nbformat_minor": 1
}
